{
 "cells": [
  {
   "cell_type": "markdown",
   "metadata": {},
   "source": [
    "### Imports and Definitions"
   ]
  },
  {
   "cell_type": "code",
   "execution_count": 1,
   "metadata": {},
   "outputs": [],
   "source": [
    "from datetime import datetime\n",
    "from glob import glob\n",
    "from gzip import open as gopen\n",
    "from math import exp,log,log10\n",
    "from matplotlib import rcParams\n",
    "from matplotlib.cm import Reds,ScalarMappable\n",
    "from matplotlib.collections import PolyCollection\n",
    "from matplotlib.colors import Normalize\n",
    "from matplotlib.patches import Patch\n",
    "from matplotlib.scale import LinearScale,register_scale,ScaleBase\n",
    "from matplotlib.transforms import Transform\n",
    "from numpy import array,cbrt,exp,linspace,nan_to_num,sqrt\n",
    "from os.path import isfile\n",
    "from pickle import load,dump\n",
    "from random import sample,shuffle\n",
    "from scipy.optimize import curve_fit\n",
    "from scipy.stats import gaussian_kde,kendalltau,norm,pearsonr,pointbiserialr,rv_continuous,spearmanr,truncnorm\n",
    "from sklearn.mixture import GaussianMixture\n",
    "from sklearn.neighbors import KernelDensity\n",
    "from seaborn import boxenplot,boxplot,lineplot,pointplot,regplot,set_context,set_style,stripplot,swarmplot,violinplot\n",
    "from treeswift import read_tree_newick\n",
    "import matplotlib.pyplot as plt\n",
    "import matplotlib.ticker as ticker\n",
    "FIGDIR = '../figs'\n",
    "TN93THRESH = 0.015\n",
    "SIMTIME = 10 # simulations were 10 years\n",
    "RC = {\"font.size\":12,\"axes.titlesize\":16,\"axes.labelsize\":14,\"legend.fontsize\":10,\"xtick.labelsize\":10,\"ytick.labelsize\":10}\n",
    "set_context(\"paper\", rc=RC); set_style(\"ticks\"); rcParams['font.family'] = 'serif'\n",
    "rcParams['patch.edgecolor'] = '4C4C4C' # set boxenplot outlines same as violinplot"
   ]
  },
  {
   "cell_type": "code",
   "execution_count": 2,
   "metadata": {},
   "outputs": [],
   "source": [
    "def p_to_star(p):\n",
    "    if p <= 0.0001:\n",
    "        return '****'\n",
    "    elif p <= 0.001:\n",
    "        return '***'\n",
    "    elif p <= 0.01:\n",
    "        return '**'\n",
    "    elif p <= 0.05:\n",
    "        return '*'\n",
    "    else:\n",
    "        return ''\n",
    "\n",
    "def avg(x):\n",
    "    return sum(x)/len(x)"
   ]
  },
  {
   "cell_type": "markdown",
   "metadata": {},
   "source": [
    "### Custom Matplotlib Square-Root Scale"
   ]
  },
  {
   "cell_type": "code",
   "execution_count": 3,
   "metadata": {},
   "outputs": [],
   "source": [
    "class SquareRootScale(ScaleBase):\n",
    "    name = 'squareroot'\n",
    "\n",
    "    def __init__(self, axis, **kwargs):\n",
    "        ScaleBase.__init__(self)\n",
    "\n",
    "    def set_default_locators_and_formatters(self, axis):\n",
    "        axis.set_major_locator(ticker.AutoLocator())\n",
    "        axis.set_major_formatter(ticker.ScalarFormatter())\n",
    "        axis.set_minor_locator(ticker.NullLocator())\n",
    "        axis.set_minor_formatter(ticker.NullFormatter())\n",
    "\n",
    "    def limit_range_for_scale(self, vmin, vmax, minpos):\n",
    "        return  max(0., vmin), vmax\n",
    "\n",
    "    class SquareRootTransform(Transform):\n",
    "        input_dims = 1\n",
    "        output_dims = 1\n",
    "        is_separable = True\n",
    "\n",
    "        def transform_non_affine(self, a):\n",
    "            return nan_to_num(sqrt(array(a)), 0)\n",
    "\n",
    "        def inverted(self):\n",
    "            return SquareRootScale.InvertedSquareRootTransform()\n",
    "\n",
    "    class InvertedSquareRootTransform(Transform):\n",
    "        input_dims = 1\n",
    "        output_dims = 1\n",
    "        is_separable = True\n",
    "\n",
    "        def transform(self, a):\n",
    "            return array(a)**2\n",
    "\n",
    "        def inverted(self):\n",
    "            return SquareRootScale.SquareRootTransform()\n",
    "\n",
    "    def get_transform(self):\n",
    "        return self.SquareRootTransform()\n",
    "register_scale(SquareRootScale)"
   ]
  },
  {
   "cell_type": "markdown",
   "metadata": {},
   "source": [
    "### Custom Matplotlib Cube-Root Scale"
   ]
  },
  {
   "cell_type": "code",
   "execution_count": 4,
   "metadata": {},
   "outputs": [],
   "source": [
    "class CubeRootScale(ScaleBase):\n",
    "    name = 'cuberoot'\n",
    "\n",
    "    def __init__(self, axis, **kwargs):\n",
    "        ScaleBase.__init__(self)\n",
    "\n",
    "    def set_default_locators_and_formatters(self, axis):\n",
    "        axis.set_major_locator(ticker.AutoLocator())\n",
    "        axis.set_major_formatter(ticker.ScalarFormatter())\n",
    "        axis.set_minor_locator(ticker.NullLocator())\n",
    "        axis.set_minor_formatter(ticker.NullFormatter())\n",
    "\n",
    "    def limit_range_for_scale(self, vmin, vmax, minpos):\n",
    "        return  max(0., vmin), vmax\n",
    "\n",
    "    class CubeRootTransform(Transform):\n",
    "        input_dims = 1\n",
    "        output_dims = 1\n",
    "        is_separable = True\n",
    "\n",
    "        def transform_non_affine(self, a): \n",
    "            return nan_to_num(cbrt(array(a)), 0)\n",
    "\n",
    "        def inverted(self):\n",
    "            return CubeRootScale.InvertedCubeRootTransform()\n",
    "\n",
    "    class InvertedCubeRootTransform(Transform):\n",
    "        input_dims = 1\n",
    "        output_dims = 1\n",
    "        is_separable = True\n",
    "\n",
    "        def transform(self, a):\n",
    "            return array(a)**3\n",
    "\n",
    "        def inverted(self):\n",
    "            return CubeRootScale.CubeRootTransform()\n",
    "\n",
    "    def get_transform(self):\n",
    "        return self.CubeRootTransform()\n",
    "register_scale(CubeRootScale)"
   ]
  },
  {
   "cell_type": "markdown",
   "metadata": {},
   "source": [
    "### Helper Function to Load FASTA"
   ]
  },
  {
   "cell_type": "code",
   "execution_count": 5,
   "metadata": {},
   "outputs": [],
   "source": [
    "def read_FASTA(filename):\n",
    "    seqs = {}\n",
    "    name = None\n",
    "    seq = ''\n",
    "    if filename.lower().endswith('.gz'):\n",
    "        f = gopen(filename)\n",
    "    else:\n",
    "        f = open(filename)\n",
    "    for line in f:\n",
    "        if isinstance(line,bytes):\n",
    "            l = line.decode().strip()\n",
    "        else:\n",
    "            l = line.strip()\n",
    "        if len(l) == 0:\n",
    "            continue\n",
    "        if l[0] == '>':\n",
    "            if name is not None:\n",
    "                assert len(seq) != 0, \"Malformed FASTA\"\n",
    "                seqs[name] = seq\n",
    "            name = l[1:]\n",
    "            assert name not in seqs, \"Duplicate sequence ID: %s\" % name\n",
    "            seq = ''\n",
    "        else:\n",
    "            seq += l\n",
    "    f.close()\n",
    "    assert name is not None and len(seq) != 0, \"Malformed FASTA\"\n",
    "    seqs[name] = seq\n",
    "    return seqs"
   ]
  },
  {
   "cell_type": "markdown",
   "metadata": {},
   "source": [
    "### Helper Function to Load tn93 Output as Distance Matrix"
   ]
  },
  {
   "cell_type": "code",
   "execution_count": 6,
   "metadata": {},
   "outputs": [],
   "source": [
    "def read_tn93(filename):\n",
    "    dm = dict()\n",
    "    if filename.lower().endswith('.gz'):\n",
    "        f = gopen(filename)\n",
    "    else:\n",
    "        f = open(filename)\n",
    "    for line in f:\n",
    "        if isinstance(line,bytes):\n",
    "            l = line.decode().strip()\n",
    "        else:\n",
    "            l = line.strip()\n",
    "        u,v,d = l.split(',')\n",
    "        if d == 'Distance':\n",
    "            continue\n",
    "        d = float(d)\n",
    "        if u not in dm:\n",
    "            dm[u] = dict()\n",
    "        if v not in dm:\n",
    "            dm[v] = dict()\n",
    "        dm[u][v] = d; dm[v][u] = d\n",
    "    return dm"
   ]
  },
  {
   "cell_type": "markdown",
   "metadata": {},
   "source": [
    "### Helper Functions to Compute Cumulative Moving Average"
   ]
  },
  {
   "cell_type": "code",
   "execution_count": 7,
   "metadata": {},
   "outputs": [],
   "source": [
    "# get the Cumulative Moving Average (CMA) over all indices\n",
    "def cma(x):\n",
    "    y = [x[0]]\n",
    "    for i in range(1,len(x)):\n",
    "        y.append(y[-1]+x[i])\n",
    "    for i in range(len(y)):\n",
    "        y[i] /= (i+1)\n",
    "    return y\n",
    "\n",
    "# helper function to compute the test statistic\n",
    "def cma_test_stat(y,normalize=False):\n",
    "    if normalize:\n",
    "        sum_miny = sum(cma(sorted(x)))\n",
    "        return (sum(y)-sum_miny)/(sum(cma(sorted(x,reverse=True)))-sum_miny) # AUC of CMA, normalized so min = 0 and max = 1\n",
    "    else:\n",
    "        return sum(y) # AUC of CMA\n",
    "\n",
    "# returns (stat,p,cma_dist,stat_dist). \"side\" is \"left\" or \"right\"\n",
    "def cma_test(x,side,bg_cma=None,bg_stat=None,it=1000):\n",
    "    assert side in {'left','right'}, \"'side' must be 'left' or 'right'\"\n",
    "    y = cma(x)\n",
    "    stat = cma_test_stat(y)\n",
    "    if bg_cma is None or bg_stat is None:\n",
    "        cma_dist = list(); stat_dist = list()\n",
    "        for _ in range(it):\n",
    "            tmp = x[:]; shuffle(tmp); tmp_cma = cma(tmp)\n",
    "            cma_dist.append(tmp_cma)\n",
    "            stat_dist.append(cma_test_stat(tmp_cma))\n",
    "    else:\n",
    "        cma_dist = bg_cma; stat_dist = bg_stat\n",
    "    if side == 'right':\n",
    "        p = sum(e >= stat for e in stat_dist)/len(stat_dist)\n",
    "    elif side == 'left':\n",
    "        p = sum(e <= stat for e in stat_dist)/len(stat_dist)\n",
    "    return stat,p,cma_dist,stat_dist"
   ]
  },
  {
   "cell_type": "markdown",
   "metadata": {},
   "source": [
    "### Helper Functions to Kendall’s Tau Test"
   ]
  },
  {
   "cell_type": "code",
   "execution_count": 8,
   "metadata": {},
   "outputs": [],
   "source": [
    "# compute the Kendall's tau\n",
    "def tau(om):\n",
    "    t,p = kendalltau(om, list(range(len(om)-1,-1,-1))) # p is 2-sided\n",
    "    return (t,p/2.)\n",
    "\n",
    "# returns (stat,p,stat_dist)\n",
    "def tau_test(om,side,bg=None,it=1000):\n",
    "    assert side in {'left','right'}, \"'side' must be 'left' or 'right'\"\n",
    "    t,p = tau(om)\n",
    "    if bg is None:\n",
    "        tau_dist = list()\n",
    "        for _ in range(it):\n",
    "            tmp = om[:]; shuffle(tmp); tau_dist.append(tau(tmp)[0])\n",
    "    else:\n",
    "        tau_dist = bg\n",
    "    #if side == 'right':\n",
    "    #    p = sum(e >= t for e in tau_dist)/len(tau_dist)\n",
    "    #elif side == 'left':\n",
    "    #    p = sum(e <= t for e in tau_dist)/len(tau_dist)\n",
    "    return t,p,tau_dist"
   ]
  },
  {
   "cell_type": "markdown",
   "metadata": {},
   "source": [
    "# Efficacy on Real Data"
   ]
  },
  {
   "cell_type": "markdown",
   "metadata": {},
   "source": [
    "### Load Data"
   ]
  },
  {
   "cell_type": "code",
   "execution_count": 9,
   "metadata": {},
   "outputs": [],
   "source": [
    "data = {\n",
    "    'seqs': read_FASTA('../real_data/sd.full.aln.gz'),\n",
    "    'tn93': read_tn93('../real_data/sd.full.tn93.csv.gz'),\n",
    "    'time': {t:{l.decode().strip().split()[0]:int(l.decode().strip().split()[1]) for l in gopen('../real_data/sd.time.%s.tsv.gz'%t)} for t in ['sample','diagnosis','infection']},\n",
    "    'proact': {n:{t:gopen('../real_data/sd.%s.%s.mv.proact.txt.gz'%(n,t)).read().decode().strip().splitlines() for t in ['ft','iq']} for n in ['10','20','30','40','50','60','70','80','90','full']},\n",
    "    'hivtrace': {n:gopen('../real_data/sd.%s.hivtrace.txt.gz'%n).read().decode().strip().splitlines() for n in ['10','20','30','40','50','60','70','80','90','full']},\n",
    "    'tree': {n:{t:read_tree_newick('../real_data/sd.%s.%s.mv.tre.gz'%(n,t)) for t in ['ft','iq']} for n in ['10','20','30','40','50','60','70','80','90','full']},\n",
    "}\n",
    "data['bl'] = {n:{t:{l.label:l.edge_length for l in data['tree'][n][t].traverse_leaves()} for t in ['ft','iq']} for n in ['10','20','30','40','50','60','70','80','90','full']}\n",
    "metareal = {\n",
    "    'label': {\n",
    "        'ft': 'FastTree',\n",
    "        'iq': 'IQ-TREE',\n",
    "        'proact': 'ProACT',\n",
    "        'max': 'Optimal',\n",
    "        'bg': 'Null Distribution',\n",
    "        'hivtrace': 'GD + Cluster Growth',\n",
    "    },\n",
    "    'color': {\n",
    "        'proact.ft': 'blue',\n",
    "        'proact.iq': 'red',\n",
    "        'max': 'black',\n",
    "        'bg': 'lightgrey',\n",
    "        'hivtrace': 'orange',\n",
    "    }\n",
    "}\n",
    "DATE = {per:max(datetime.strptime(l.split('_')[1], '%m-%d-%y') for l in data['proact'][per]['iq']) for per in data['proact']}"
   ]
  },
  {
   "cell_type": "markdown",
   "metadata": {},
   "source": [
    "### Fit a Mixture of Three Normals"
   ]
  },
  {
   "cell_type": "code",
   "execution_count": 10,
   "metadata": {},
   "outputs": [],
   "source": [
    "tn93_dists = [float(e.split(',')[2]) for e in gopen('../real_data/sd.full.tn93.csv.gz').read().decode().splitlines() if not e.startswith('ID1,')]\n",
    "''' # commented out to avoid recomputing the fit\n",
    "mixture = GaussianMixture(n_components=3, means_init=array([[0.001],[0.06],[0.12]])).fit(array(dists).reshape(-1, 1))\n",
    "means_hat = mixture.means_.flatten()\n",
    "weights_hat = mixture.weights_.flatten()\n",
    "sds_hat = sqrt(mixture.covariances_).flatten()\n",
    "print(mixture.converged_)\n",
    "print(means_hat)\n",
    "print(sds_hat)\n",
    "print(weights_hat)\n",
    "'''\n",
    "# precomputed the normal distribution fits as (mean,stdev,weight) tuples\n",
    "tn93_norms = [(0.01912874,0.01026023,0.00550792), (0.0608724,0.01175875,0.9477272), (0.11828241,0.01250665,0.04676488)]"
   ]
  },
  {
   "cell_type": "markdown",
   "metadata": {},
   "source": [
    "### Riskiness Score Functions"
   ]
  },
  {
   "cell_type": "code",
   "execution_count": 11,
   "metadata": {},
   "outputs": [],
   "source": [
    "norm_fit_memo = dict()\n",
    "score_functions = {\n",
    "    'function': {\n",
    "        'logarithmic': lambda x: log(x+0.25)/log(0.25), # logarithmic where score = 0 at 75%\n",
    "        'logistic': lambda x: 2.-2./(1.+exp(-x*log(3.)/0.015)), # logistic with 1/2 score at 1.5%\n",
    "        'step': lambda x: {True:1,False:0}[x <= TN93THRESH], # step function at 1.5%\n",
    "        \n",
    "        # score = (L+1)/(L^(x/threshold)+L), with L = 1/(score at 2*threshold) for the following ones\n",
    "        'sigmoid-L100': lambda x: (100.+1.)/(100.**(x/TN93THRESH)+100.), # score of 0.01 at 3%\n",
    "        'sigmoid-L5': lambda x: (5.+1.)/(5.**(x/TN93THRESH)+5.), # score of 0.2 at 3%\n",
    "    },\n",
    "    'label': {\n",
    "        'end-bl-ft': 'End-Time Incident Branch Length (FastTree)',\n",
    "        'end-bl-iq': 'End-Time Incident Branch Length (IQ-TREE)',\n",
    "        'logarithmic': 'Logarithmic Function',\n",
    "        'logistic': 'Logistic Function',\n",
    "        'norm-fit': 'Empirical Smooth Step Function',\n",
    "        'sigmoid-L100': r'Sigmoid Function $(\\lambda=100)$',\n",
    "        'sigmoid-L5': r'Sigmoid Function $(\\lambda=5)$',\n",
    "        'step': 'Step Function Around 1.5%',\n",
    "    },\n",
    "}\n",
    "def score_norm_fit(x):\n",
    "    if x not in norm_fit_memo:\n",
    "        norm_fit_memo[x] = norm.pdf(x,loc=tn93_norms[0][0],scale=tn93_norms[0][1])/sum(norm.pdf(x,loc=m,scale=s) for m,s,w in tn93_norms)\n",
    "    return norm_fit_memo[x]\n",
    "score_functions['function']['norm-fit'] = score_norm_fit\n",
    "\n",
    "def newnode_riskiness(u, end, score): # score is a function (one of the values of score_functions)\n",
    "    if u not in data['tn93']:\n",
    "        return 0\n",
    "    return sum(score(data['tn93'][u][v]) for v in data['tn93'][u] if data['time'][s][v] > end)\n",
    "\n",
    "SCOREFUNCS = ['norm-fit','step','sigmoid-L100','sigmoid-L5']"
   ]
  },
  {
   "cell_type": "code",
   "execution_count": 12,
   "metadata": {},
   "outputs": [
    {
     "data": {
      "image/png": "[encoded data removed]",
      "text/plain": [
       "<Figure size 432x288 with 1 Axes>"
      ]
     },
     "metadata": {
      "needs_background": "light"
     },
     "output_type": "display_data"
    }
   ],
   "source": [
    "xmin = 0\n",
    "ymin = None\n",
    "ymax = None\n",
    "for xmax in [0.1]:#,0.75]:\n",
    "    fig = plt.figure()\n",
    "    x = linspace(xmin,xmax,100001)\n",
    "    for scorekey in SCOREFUNCS:\n",
    "        scorename = score_functions['label'][scorekey]; scorefunc = score_functions['function'][scorekey]\n",
    "        y = [scorefunc(xi) for xi in x]\n",
    "        plt.plot(x, y, label=scorename)\n",
    "    plt.ylim(ymin=ymin,ymax=ymax)\n",
    "    plt.title(\"Score Functions\")\n",
    "    plt.xlabel(\"Pairwise Distance\")\n",
    "    plt.ylabel(\"Score\")\n",
    "    if xmax < 0.25:\n",
    "        plt.legend(bbox_to_anchor=(0.995, 0.995), loc=1, borderaxespad=0.)\n",
    "        fig.savefig('%s/riskiness_score_functions_zoomed.pdf'%FIGDIR, format='pdf', bbox_inches='tight')\n",
    "    else:\n",
    "        plt.legend(bbox_to_anchor=(0.995, 0.995), loc=1, borderaxespad=0.)\n",
    "        fig.savefig('%s/riskiness_score_functions.pdf'%FIGDIR, format='pdf', bbox_inches='tight')"
   ]
  },
  {
   "cell_type": "markdown",
   "metadata": {},
   "source": [
    "### Kendall's Tau Test"
   ]
  },
  {
   "cell_type": "code",
   "execution_count": 13,
   "metadata": {},
   "outputs": [
    {
     "name": "stdout",
     "output_type": "stream",
     "text": [
      "========== Empirical Smooth Step Function ==========\n",
      "ProACT (FastTree)\n",
      "10-th Percentile: 0.378404 (p = 5e-08)\n",
      "20-th Percentile: 0.179382 (p = 1e-04)\n",
      "30-th Percentile: 0.176714 (p = 6e-06)\n",
      "40-th Percentile: 0.177340 (p = 2e-07)\n",
      "50-th Percentile: 0.171694 (p = 2e-08)\n",
      "60-th Percentile: 0.187733 (p = 2e-11)\n",
      "70-th Percentile: 0.175006 (p = 1e-11)\n",
      "80-th Percentile: 0.164342 (p = 1e-11)\n",
      "90-th Percentile: 0.196343 (p = 1e-17)\n",
      "\n",
      "GD + Cluster Growth\n",
      "10-th Percentile: 0.209269 (p = 2e-03)\n",
      "20-th Percentile: 0.104997 (p = 2e-02)\n",
      "30-th Percentile: 0.178127 (p = 5e-06)\n",
      "40-th Percentile: 0.122025 (p = 2e-04)\n",
      "50-th Percentile: 0.121279 (p = 5e-05)\n",
      "60-th Percentile: 0.137946 (p = 6e-07)\n",
      "70-th Percentile: 0.154160 (p = 2e-09)\n",
      "80-th Percentile: 0.134799 (p = 2e-08)\n",
      "90-th Percentile: 0.152369 (p = 2e-11)\n",
      "\n",
      "========== Step Function Around 1.5% ==========\n",
      "ProACT (FastTree)\n",
      "10-th Percentile: 0.346486 (p = 1e-05)\n",
      "20-th Percentile: 0.309078 (p = 5e-08)\n",
      "30-th Percentile: 0.234236 (p = 3e-07)\n",
      "40-th Percentile: 0.257934 (p = 2e-10)\n",
      "50-th Percentile: 0.175662 (p = 1e-06)\n",
      "60-th Percentile: 0.158986 (p = 2e-06)\n",
      "70-th Percentile: 0.115800 (p = 1e-04)\n",
      "80-th Percentile: 0.073397 (p = 7e-03)\n",
      "90-th Percentile: 0.139313 (p = 4e-07)\n",
      "\n",
      "GD + Cluster Growth\n",
      "10-th Percentile: 0.566542 (p = 4e-12)\n",
      "20-th Percentile: 0.521071 (p = 1e-19)\n",
      "30-th Percentile: 0.516934 (p = 3e-28)\n",
      "40-th Percentile: 0.422306 (p = 7e-25)\n",
      "50-th Percentile: 0.334952 (p = 2e-19)\n",
      "60-th Percentile: 0.231388 (p = 8e-12)\n",
      "70-th Percentile: 0.269809 (p = 1e-17)\n",
      "80-th Percentile: 0.221885 (p = 5e-14)\n",
      "90-th Percentile: 0.290824 (p = 2e-25)\n",
      "\n",
      "========== Sigmoid Function $(\\lambda=100)$ ==========\n",
      "ProACT (FastTree)\n",
      "10-th Percentile: 0.445772 (p = 2e-10)\n",
      "20-th Percentile: 0.280678 (p = 7e-09)\n",
      "30-th Percentile: 0.263254 (p = 3e-11)\n",
      "40-th Percentile: 0.299248 (p = 4e-18)\n",
      "50-th Percentile: 0.256087 (p = 9e-17)\n",
      "60-th Percentile: 0.258674 (p = 4e-20)\n",
      "70-th Percentile: 0.202254 (p = 7e-15)\n",
      "80-th Percentile: 0.171057 (p = 2e-12)\n",
      "90-th Percentile: 0.213802 (p = 1e-20)\n",
      "\n",
      "GD + Cluster Growth\n",
      "10-th Percentile: 0.394171 (p = 1e-08)\n",
      "20-th Percentile: 0.327800 (p = 2e-11)\n",
      "30-th Percentile: 0.365751 (p = 6e-20)\n",
      "40-th Percentile: 0.351808 (p = 3e-24)\n",
      "50-th Percentile: 0.308671 (p = 2e-23)\n",
      "60-th Percentile: 0.235582 (p = 5e-17)\n",
      "70-th Percentile: 0.204802 (p = 3e-15)\n",
      "80-th Percentile: 0.157928 (p = 6e-11)\n",
      "90-th Percentile: 0.186704 (p = 4e-16)\n",
      "\n",
      "========== Sigmoid Function $(\\lambda=5)$ ==========\n",
      "ProACT (FastTree)\n",
      "10-th Percentile: 0.393693 (p = 1e-08)\n",
      "20-th Percentile: 0.186551 (p = 8e-05)\n",
      "30-th Percentile: 0.188016 (p = 2e-06)\n",
      "40-th Percentile: 0.185104 (p = 5e-08)\n",
      "50-th Percentile: 0.173919 (p = 1e-08)\n",
      "60-th Percentile: 0.189229 (p = 1e-11)\n",
      "70-th Percentile: 0.166744 (p = 1e-10)\n",
      "80-th Percentile: 0.160729 (p = 3e-11)\n",
      "90-th Percentile: 0.195956 (p = 1e-17)\n",
      "\n",
      "GD + Cluster Growth\n",
      "10-th Percentile: 0.230291 (p = 6e-04)\n",
      "20-th Percentile: 0.124857 (p = 6e-03)\n",
      "30-th Percentile: 0.201462 (p = 3e-07)\n",
      "40-th Percentile: 0.136000 (p = 5e-05)\n",
      "50-th Percentile: 0.134425 (p = 8e-06)\n",
      "60-th Percentile: 0.143345 (p = 2e-07)\n",
      "70-th Percentile: 0.137540 (p = 8e-08)\n",
      "80-th Percentile: 0.116118 (p = 1e-06)\n",
      "90-th Percentile: 0.146638 (p = 1e-10)\n",
      "\n",
      "========== End-Time Incident Branch Length (FastTree) ==========\n",
      "ProACT (FastTree)\n",
      "10-th Percentile: -0.545981 (p = 8e-15)\n",
      "20-th Percentile: -0.647155 (p = 6e-39)\n",
      "30-th Percentile: -0.720386 (p = 1e-70)\n",
      "40-th Percentile: -0.755726 (p = 5e-103)\n",
      "50-th Percentile: -0.797871 (p = 4e-143)\n",
      "60-th Percentile: -0.805913 (p = 5e-175)\n",
      "70-th Percentile: -0.852504 (p = 1e-227)\n",
      "80-th Percentile: -0.880858 (p = 3e-277)\n",
      "90-th Percentile: -0.914525 (p = 0e+00)\n",
      "\n",
      "GD + Cluster Growth\n",
      "10-th Percentile: -0.309557 (p = 7e-06)\n",
      "20-th Percentile: -0.405005 (p = 2e-16)\n",
      "30-th Percentile: -0.410427 (p = 3e-24)\n",
      "40-th Percentile: -0.411772 (p = 5e-32)\n",
      "50-th Percentile: -0.460353 (p = 4e-49)\n",
      "60-th Percentile: -0.421419 (p = 2e-49)\n",
      "70-th Percentile: -0.423742 (p = 6e-58)\n",
      "80-th Percentile: -0.462554 (p = 4e-78)\n",
      "90-th Percentile: -0.488072 (p = 2e-97)\n",
      "\n"
     ]
    },
    {
     "data": {
      "image/png": "[encoded data removed]",
      "text/plain": [
       "<Figure size 576x288 with 1 Axes>"
      ]
     },
     "metadata": {
      "needs_background": "light"
     },
     "output_type": "display_data"
    },
    {
     "data": {
      "image/png": "[encoded data removed]",
      "text/plain": [
       "<Figure size 576x288 with 1 Axes>"
      ]
     },
     "metadata": {
      "needs_background": "light"
     },
     "output_type": "display_data"
    },
    {
     "data": {
      "image/png": "[encoded data removed]",
      "text/plain": [
       "<Figure size 576x288 with 1 Axes>"
      ]
     },
     "metadata": {
      "needs_background": "light"
     },
     "output_type": "display_data"
    },
    {
     "data": {
      "image/png": "[encoded data removed]",
      "text/plain": [
       "<Figure size 576x288 with 1 Axes>"
      ]
     },
     "metadata": {
      "needs_background": "light"
     },
     "output_type": "display_data"
    },
    {
     "data": {
      "image/png": "[encoded data removed]",
      "text/plain": [
       "<Figure size 576x288 with 1 Axes>"
      ]
     },
     "metadata": {
      "needs_background": "light"
     },
     "output_type": "display_data"
    }
   ],
   "source": [
    "IT = 100; BG = dict()\n",
    "#Ts = ['proact.ft','proact.iq','hivtrace']\n",
    "Ts = ['proact.ft','hivtrace']\n",
    "for scorekey in SCOREFUNCS+['end-bl-ft']:\n",
    "    scorename = score_functions['label'][scorekey]\n",
    "    if scorekey.startswith('end-bl'):\n",
    "        scorefunc = None\n",
    "    else:\n",
    "        scorefunc = score_functions['function'][scorekey]\n",
    "    print(\"=\"*10 + ' ' + scorename + ' ' + '='*10)\n",
    "    ymin = None; ymax = None #ymin = -1; ymax = 1\n",
    "    for s in ['sample']:\n",
    "        fig = plt.figure(figsize=(8,4))\n",
    "        x = list(); y = list(); hue = list(); pal = list(); tmp = list(); pal = [metareal['color']['bg']]\n",
    "        for t in Ts:\n",
    "            if t.endswith('.ft') or t.endswith('.iq'):\n",
    "                label = \"%s (%s)\"%(metareal['label'][t.split('.')[0]],metareal['label'][t.split('.')[1]])\n",
    "            else:\n",
    "                label = metareal['label']['hivtrace']\n",
    "            print(label)\n",
    "            for per in ['10','20','30','40','50','60','70','80','90']:\n",
    "                if per not in BG:\n",
    "                    BG[per] = None\n",
    "                if t.endswith('.ft') or t.endswith('.iq'):\n",
    "                    currdata = data[t.split('.')[0]][per][t.split('.')[1]]\n",
    "                else:\n",
    "                    currdata = data['hivtrace'][per]\n",
    "                END = max(int(l.split('_')[-1]) for l in currdata)\n",
    "                if scorekey.startswith('end-bl'):\n",
    "                    val = [data['bl']['full'][scorekey.split('-')[-1]][u] for u in currdata]\n",
    "                else:\n",
    "                    val = [newnode_riskiness(u,END,scorefunc) for u in currdata]\n",
    "                taustat,p,tau_dist = tau_test(val,'right',bg=BG[per],it=IT); BG[per] = tau_dist\n",
    "                print(\"%s-th Percentile: %f (p = %s)\" % (per,taustat,format(p,'.0e')))\n",
    "                tmp.append((per,taustat,label,metareal['color'][t]))\n",
    "            print()\n",
    "        for per in BG:\n",
    "            for bg in BG[per]:\n",
    "                x.append(\"%s\\n(%s%%)\"%(DATE[per].strftime('%-m/%Y'),per))\n",
    "                y.append(bg); hue.append(metareal['label']['bg'])\n",
    "        for per,taustat,h,c in tmp:\n",
    "            x.append(\"%s\\n(%s%%)\"%(DATE[per].strftime('%-m/%Y'),per))\n",
    "            y.append(taustat); hue.append(h)\n",
    "            if c not in pal:\n",
    "                pal.append(c)\n",
    "        stripplot(x=x,y=y,hue=hue,palette=pal,jitter=True)\n",
    "        handles,labels = fig.gca().get_legend_handles_labels()\n",
    "        plt.legend(handles[::-1],labels[::-1],bbox_to_anchor=(0.995, 0.995), loc=1, borderaxespad=0.)\n",
    "        plt.ylim(ymin=ymin,ymax=ymax)\n",
    "        plt.title(scorename)\n",
    "        plt.xlabel(\"Percentile\")\n",
    "        plt.ylabel(\"Kendall's Tau\")\n",
    "        fig.savefig('%s/results_tautest_%s.pdf'%(FIGDIR,scorekey), format='pdf', bbox_inches='tight')"
   ]
  },
  {
   "cell_type": "code",
   "execution_count": 14,
   "metadata": {},
   "outputs": [
    {
     "name": "stdout",
     "output_type": "stream",
     "text": [
      "========== ProACT Ordering at 10th Percentile ==========\n",
      "ProACT (FastTree)\n",
      "10-th Percentile: 1.000000 (p = 8e-143)\n",
      "20-th Percentile: 0.767320 (p = 1e-27)\n",
      "30-th Percentile: 0.683230 (p = 3e-22)\n",
      "40-th Percentile: 0.679408 (p = 4e-22)\n",
      "50-th Percentile: 0.649307 (p = 2e-20)\n",
      "60-th Percentile: 0.557095 (p = 2e-15)\n",
      "70-th Percentile: 0.562828 (p = 1e-15)\n",
      "80-th Percentile: 0.523650 (p = 7e-14)\n",
      "90-th Percentile: 0.521739 (p = 9e-14)\n",
      "\n"
     ]
    },
    {
     "data": {
      "image/png": "[encoded data removed]",
      "text/plain": [
       "<Figure size 576x288 with 1 Axes>"
      ]
     },
     "metadata": {
      "needs_background": "light"
     },
     "output_type": "display_data"
    }
   ],
   "source": [
    "IT = 100; BG = dict()\n",
    "Ts = ['proact.ft']\n",
    "scorename = \"ProACT Ordering at 10th Percentile\"\n",
    "print(\"=\"*10 + ' ' + scorename + ' ' + '='*10)\n",
    "ymin = None; ymax = None #ymin = -1; ymax = 1\n",
    "for s in ['sample']:\n",
    "    fig = plt.figure(figsize=(8,4))\n",
    "    x = list(); y = list(); hue = list(); pal = list(); tmp = list(); pal = [metareal['color']['bg']]\n",
    "    for t in Ts:\n",
    "        if t.endswith('.ft') or t.endswith('.iq'):\n",
    "            label = \"%s (%s)\"%(metareal['label'][t.split('.')[0]],metareal['label'][t.split('.')[1]])\n",
    "        else:\n",
    "            label = metareal['label']['hivtrace']\n",
    "        print(label)\n",
    "        u_to_10p_proact_index = {u:i for i,u in enumerate(data[t.split('.')[0]]['10'][t.split('.')[1]])}\n",
    "        for per in ['10','20','30','40','50','60','70','80','90']:\n",
    "            if per not in BG:\n",
    "                BG[per] = None\n",
    "            if t.endswith('.ft') or t.endswith('.iq'):\n",
    "                currdata = data[t.split('.')[0]][per][t.split('.')[1]]\n",
    "            else:\n",
    "                currdata = data['hivtrace'][per]\n",
    "            currdata = [u for u in currdata if u in u_to_10p_proact_index]\n",
    "            END = max(int(l.split('_')[-1]) for l in currdata)\n",
    "            val = [u_to_10p_proact_index[u] for u in currdata][::-1]\n",
    "            taustat,p,tau_dist = tau_test(val,'right',bg=BG[per],it=IT); BG[per] = tau_dist\n",
    "            print(\"%s-th Percentile: %f (p = %s)\" % (per,taustat,format(p,'.0e')))\n",
    "            tmp.append((per,taustat,label,metareal['color'][t]))\n",
    "        print()\n",
    "    for per in BG:\n",
    "        for bg in BG[per]:\n",
    "            x.append(\"%s\\n(%s%%)\"%(DATE[per].strftime('%-m/%Y'),per))\n",
    "            y.append(bg); hue.append(metareal['label']['bg'])\n",
    "    for per,taustat,h,c in tmp:\n",
    "        x.append(\"%s\\n(%s%%)\"%(DATE[per].strftime('%-m/%Y'),per))\n",
    "        y.append(taustat); hue.append(h)\n",
    "        if c not in pal:\n",
    "            pal.append(c)\n",
    "    stripplot(x=x,y=y,hue=hue,palette=pal,jitter=True)\n",
    "    handles,labels = fig.gca().get_legend_handles_labels()\n",
    "    plt.legend(handles[::-1],labels[::-1],bbox_to_anchor=(0.995, 0.995), loc=1, borderaxespad=0.)\n",
    "    plt.ylim(ymin=ymin,ymax=ymax)\n",
    "    plt.title(scorename)\n",
    "    plt.xlabel(\"Percentile\")\n",
    "    plt.ylabel(\"Kendall's Tau\")\n",
    "    fig.savefig('%s/results_tautest_%s.pdf'%(FIGDIR,scorekey), format='pdf', bbox_inches='tight')"
   ]
  },
  {
   "cell_type": "markdown",
   "metadata": {},
   "source": [
    "# Efficacy on Simulated Data"
   ]
  },
  {
   "cell_type": "markdown",
   "metadata": {},
   "source": [
    "### Load Data"
   ]
  },
  {
   "cell_type": "code",
   "execution_count": 15,
   "metadata": {},
   "outputs": [
    {
     "ename": "FileNotFoundError",
     "evalue": "[Errno 2] No such file or directory: '../simulations/efficacy.pkl.gz'",
     "output_type": "error",
     "traceback": [
      "\u001b[0;31m---------------------------------------------------------------------------\u001b[0m",
      "\u001b[0;31mFileNotFoundError\u001b[0m                         Traceback (most recent call last)",
      "\u001b[0;32m<ipython-input-15-0b3f2d6f3b9a>\u001b[0m in \u001b[0;36m<module>\u001b[0;34m\u001b[0m\n\u001b[0;32m----> 1\u001b[0;31m \u001b[0meff\u001b[0m \u001b[0;34m=\u001b[0m \u001b[0mload\u001b[0m\u001b[0;34m(\u001b[0m\u001b[0mgopen\u001b[0m\u001b[0;34m(\u001b[0m\u001b[0;34m'../simulations/efficacy.pkl.gz'\u001b[0m\u001b[0;34m)\u001b[0m\u001b[0;34m)\u001b[0m\u001b[0;34m\u001b[0m\u001b[0m\n\u001b[0m\u001b[1;32m      2\u001b[0m metasim = {\n\u001b[1;32m      3\u001b[0m     'label': {\n\u001b[1;32m      4\u001b[0m         \u001b[0;34m'expected'\u001b[0m\u001b[0;34m:\u001b[0m \u001b[0;34m'Population Mean'\u001b[0m\u001b[0;34m,\u001b[0m\u001b[0;34m\u001b[0m\u001b[0m\n\u001b[1;32m      5\u001b[0m         \u001b[0;34m'random'\u001b[0m\u001b[0;34m:\u001b[0m \u001b[0;34m'Random'\u001b[0m\u001b[0;34m,\u001b[0m\u001b[0;34m\u001b[0m\u001b[0m\n",
      "\u001b[0;32m~/.local/lib/python3.6/gzip.py\u001b[0m in \u001b[0;36mopen\u001b[0;34m(filename, mode, compresslevel, encoding, errors, newline)\u001b[0m\n\u001b[1;32m     51\u001b[0m     \u001b[0mgz_mode\u001b[0m \u001b[0;34m=\u001b[0m \u001b[0mmode\u001b[0m\u001b[0;34m.\u001b[0m\u001b[0mreplace\u001b[0m\u001b[0;34m(\u001b[0m\u001b[0;34m\"t\"\u001b[0m\u001b[0;34m,\u001b[0m \u001b[0;34m\"\"\u001b[0m\u001b[0;34m)\u001b[0m\u001b[0;34m\u001b[0m\u001b[0m\n\u001b[1;32m     52\u001b[0m     \u001b[0;32mif\u001b[0m \u001b[0misinstance\u001b[0m\u001b[0;34m(\u001b[0m\u001b[0mfilename\u001b[0m\u001b[0;34m,\u001b[0m \u001b[0;34m(\u001b[0m\u001b[0mstr\u001b[0m\u001b[0;34m,\u001b[0m \u001b[0mbytes\u001b[0m\u001b[0;34m,\u001b[0m \u001b[0mos\u001b[0m\u001b[0;34m.\u001b[0m\u001b[0mPathLike\u001b[0m\u001b[0;34m)\u001b[0m\u001b[0;34m)\u001b[0m\u001b[0;34m:\u001b[0m\u001b[0;34m\u001b[0m\u001b[0m\n\u001b[0;32m---> 53\u001b[0;31m         \u001b[0mbinary_file\u001b[0m \u001b[0;34m=\u001b[0m \u001b[0mGzipFile\u001b[0m\u001b[0;34m(\u001b[0m\u001b[0mfilename\u001b[0m\u001b[0;34m,\u001b[0m \u001b[0mgz_mode\u001b[0m\u001b[0;34m,\u001b[0m \u001b[0mcompresslevel\u001b[0m\u001b[0;34m)\u001b[0m\u001b[0;34m\u001b[0m\u001b[0m\n\u001b[0m\u001b[1;32m     54\u001b[0m     \u001b[0;32melif\u001b[0m \u001b[0mhasattr\u001b[0m\u001b[0;34m(\u001b[0m\u001b[0mfilename\u001b[0m\u001b[0;34m,\u001b[0m \u001b[0;34m\"read\"\u001b[0m\u001b[0;34m)\u001b[0m \u001b[0;32mor\u001b[0m \u001b[0mhasattr\u001b[0m\u001b[0;34m(\u001b[0m\u001b[0mfilename\u001b[0m\u001b[0;34m,\u001b[0m \u001b[0;34m\"write\"\u001b[0m\u001b[0;34m)\u001b[0m\u001b[0;34m:\u001b[0m\u001b[0;34m\u001b[0m\u001b[0m\n\u001b[1;32m     55\u001b[0m         \u001b[0mbinary_file\u001b[0m \u001b[0;34m=\u001b[0m \u001b[0mGzipFile\u001b[0m\u001b[0;34m(\u001b[0m\u001b[0;32mNone\u001b[0m\u001b[0;34m,\u001b[0m \u001b[0mgz_mode\u001b[0m\u001b[0;34m,\u001b[0m \u001b[0mcompresslevel\u001b[0m\u001b[0;34m,\u001b[0m \u001b[0mfilename\u001b[0m\u001b[0;34m)\u001b[0m\u001b[0;34m\u001b[0m\u001b[0m\n",
      "\u001b[0;32m~/.local/lib/python3.6/gzip.py\u001b[0m in \u001b[0;36m__init__\u001b[0;34m(self, filename, mode, compresslevel, fileobj, mtime)\u001b[0m\n\u001b[1;32m    161\u001b[0m             \u001b[0mmode\u001b[0m \u001b[0;34m+=\u001b[0m \u001b[0;34m'b'\u001b[0m\u001b[0;34m\u001b[0m\u001b[0m\n\u001b[1;32m    162\u001b[0m         \u001b[0;32mif\u001b[0m \u001b[0mfileobj\u001b[0m \u001b[0;32mis\u001b[0m \u001b[0;32mNone\u001b[0m\u001b[0;34m:\u001b[0m\u001b[0;34m\u001b[0m\u001b[0m\n\u001b[0;32m--> 163\u001b[0;31m             \u001b[0mfileobj\u001b[0m \u001b[0;34m=\u001b[0m \u001b[0mself\u001b[0m\u001b[0;34m.\u001b[0m\u001b[0mmyfileobj\u001b[0m \u001b[0;34m=\u001b[0m \u001b[0mbuiltins\u001b[0m\u001b[0;34m.\u001b[0m\u001b[0mopen\u001b[0m\u001b[0;34m(\u001b[0m\u001b[0mfilename\u001b[0m\u001b[0;34m,\u001b[0m \u001b[0mmode\u001b[0m \u001b[0;32mor\u001b[0m \u001b[0;34m'rb'\u001b[0m\u001b[0;34m)\u001b[0m\u001b[0;34m\u001b[0m\u001b[0m\n\u001b[0m\u001b[1;32m    164\u001b[0m         \u001b[0;32mif\u001b[0m \u001b[0mfilename\u001b[0m \u001b[0;32mis\u001b[0m \u001b[0;32mNone\u001b[0m\u001b[0;34m:\u001b[0m\u001b[0;34m\u001b[0m\u001b[0m\n\u001b[1;32m    165\u001b[0m             \u001b[0mfilename\u001b[0m \u001b[0;34m=\u001b[0m \u001b[0mgetattr\u001b[0m\u001b[0;34m(\u001b[0m\u001b[0mfileobj\u001b[0m\u001b[0;34m,\u001b[0m \u001b[0;34m'name'\u001b[0m\u001b[0;34m,\u001b[0m \u001b[0;34m''\u001b[0m\u001b[0;34m)\u001b[0m\u001b[0;34m\u001b[0m\u001b[0m\n",
      "\u001b[0;31mFileNotFoundError\u001b[0m: [Errno 2] No such file or directory: '../simulations/efficacy.pkl.gz'"
     ]
    }
   ],
   "source": [
    "eff = load(gopen('../simulations/efficacy.pkl.gz'))\n",
    "metasim = {\n",
    "    'label': {\n",
    "        'expected': 'Population Mean',\n",
    "        'random': 'Random',\n",
    "        'random.sub25': 'Random (25%)',\n",
    "        'random.sub50': 'Random (50%)',\n",
    "        'random.sub75': 'Random (75%)',\n",
    "        'optimal': 'Optimal',\n",
    "        'optimal.sub25': 'Optimal (25%)',\n",
    "        'optimal.sub50': 'Optimal (50%)',\n",
    "        'optimal.sub75': 'Optimal (75%)',\n",
    "        'hivtrace': 'Cluster Growth',\n",
    "        'hivtrace.sub25': 'Cluster Growth (25%)',\n",
    "        'hivtrace.sub50': 'Cluster Growth (50%)',\n",
    "        'hivtrace.sub75': 'Cluster Growth (75%)',\n",
    "        'proact.true': 'ProACT (True Trees)',\n",
    "        'proact.ftmv': 'ProACT',\n",
    "        'proact.ftmv.sub25': 'ProACT (25%)',\n",
    "        'proact.ftmv.sub50': 'ProACT (50%)',\n",
    "        'proact.ftmv.sub75': 'ProACT (75%)',\n",
    "        'branchlength.true': 'Branch Length (True Trees)',\n",
    "        'branchlength.ftmv': 'Branch Length (FastTree)',\n",
    "        'SAMPLE-END_ARTRATE-1': r'ART Rate 1 year$^{-1}$ (Sample End)',\n",
    "        'SAMPLE-END_ARTRATE-2': r'ART Rate 2 year$^{-1}$ (Sample End)',\n",
    "        'SAMPLE-END_ARTRATE-4': r'ART Rate 4 year$^{-1}$ (Sample End)',\n",
    "        'SAMPLE-FIRSTART_ARTRATE-0.5': r'ART Rate 0.5 year$^{-1}$',\n",
    "        'SAMPLE-FIRSTART_ARTRATE-1': r'ART Rate 1 year$^{-1}$',\n",
    "        'SAMPLE-FIRSTART_ARTRATE-2': r'ART Rate 2 year$^{-1}$',\n",
    "        'SAMPLE-FIRSTART_ARTRATE-4': r'ART Rate 4 year$^{-1}$',\n",
    "        'SAMPLE-FIRSTART_EXPDEGREE-10': 'Expected Degree 10',\n",
    "        'SAMPLE-FIRSTART_EXPDEGREE-20': 'Expected Degree 20',\n",
    "        'SAMPLE-FIRSTART_EXPDEGREE-30': 'Expected Degree 30',\n",
    "        'SAMPLE-FIRSTART_STOPRATE-0.25x': 'ART Stop Rate 0.25x',\n",
    "        'SAMPLE-FIRSTART_STOPRATE-0.5x': 'ART Stop Rate 0.5x',\n",
    "        'SAMPLE-FIRSTART_STOPRATE-1x': 'ART Stop Rate 1x',\n",
    "        'SAMPLE-FIRSTART_STOPRATE-2x': 'ART Stop Rate 2x',\n",
    "        'SAMPLE-FIRSTART_STOPRATE-4x': 'ART Stop Rate 4x',\n",
    "    },\n",
    "    'color': {\n",
    "        'expected': 'lightgrey',\n",
    "        'random': 'maroon',\n",
    "        'random.sub25': 'mistyrose',\n",
    "        'random.sub50': 'salmon',\n",
    "        'random.sub75': 'red',\n",
    "        'optimal': '#000000',\n",
    "        'optimal.sub25': '#F0F0F0',\n",
    "        'optimal.sub50': '#A0A0A0',\n",
    "        'optimal.sub75': '#505050',\n",
    "        'hivtrace': 'darkgoldenrod',\n",
    "        'hivtrace.sub25': 'cornsilk',\n",
    "        'hivtrace.sub50': 'khaki',\n",
    "        'hivtrace.sub75': 'goldenrod',\n",
    "        'proact.true': 'chocolate',\n",
    "        'proact.ftmv': 'darkblue',\n",
    "        'proact.ftmv.sub25': 'aqua',\n",
    "        'proact.ftmv.sub50': 'dodgerblue',\n",
    "        'proact.ftmv.sub75': 'blue',\n",
    "        'branchlength.true': 'lightgreen',\n",
    "        'branchlength.ftmv': 'green',\n",
    "    },\n",
    "    'linestyle': {\n",
    "        'expected': '--',\n",
    "        'random': '--',\n",
    "        'random.sub25': '--',\n",
    "        'random.sub50': '--',\n",
    "        'random.sub75': '--',\n",
    "        'optimal': '-',\n",
    "        'optimal.sub25': '-',\n",
    "        'optimal.sub50': '-',\n",
    "        'optimal.sub75': '-',\n",
    "        'hivtrace': '-.',\n",
    "        'hivtrace.sub25': '-.',\n",
    "        'hivtrace.sub50': '-.',\n",
    "        'hivtrace.sub75': '-.',\n",
    "        'proact.true': '-',\n",
    "        'proact.ftmv': '-',\n",
    "        'proact.ftmv.sub25': '-',\n",
    "        'proact.ftmv.sub50': '-',\n",
    "        'proact.ftmv.sub75': '-',\n",
    "        'branchlength.true': '-',\n",
    "        'branchlength.ftmv': '-',\n",
    "    }\n",
    "}\n",
    "tr = {\n",
    "    'SAMPLE-FIRSTART_ARTRATE-1': r'$E_{d}=10$, $\\lambda_{+}=1$, $\\lambda_{-}=1x$',\n",
    "    'SAMPLE-FIRSTART_ARTRATE-2': r'$E_{d}=10$, $\\lambda_{+}=2$, $\\lambda_{-}=1x$',\n",
    "    'SAMPLE-FIRSTART_ARTRATE-4': r'$E_{d}=10$, $\\lambda_{+}=4$, $\\lambda_{-}=1x$',\n",
    "    'SAMPLE-FIRSTART_STOPRATE-0.25x': r'$E_{d}=10$, $\\lambda_{+}=1$, $\\lambda_{-}=0.25x$',\n",
    "    'SAMPLE-FIRSTART_STOPRATE-0.5x': r'$E_{d}=10$, $\\lambda_{+}=1$, $\\lambda_{-}=0.5x$',\n",
    "    'SAMPLE-FIRSTART_STOPRATE-2x': r'$E_{d}=10$, $\\lambda_{+}=1$, $\\lambda_{-}=2x$',\n",
    "    'SAMPLE-FIRSTART_STOPRATE-4x': r'$E_{d}=10$, $\\lambda_{+}=1$, $\\lambda_{-}=4x$',\n",
    "    'SAMPLE-FIRSTART_EXPDEGREE-20': r'$E_{d}=20$, $\\lambda_{+}=1$, $\\lambda_{-}=1x$',\n",
    "    'SAMPLE-FIRSTART_EXPDEGREE-30': r'$E_{d}=30$, $\\lambda_{+}=1$, $\\lambda_{-}=1x$',\n",
    "    'SAMPLE-END_ARTRATE-1': r'$E_{d}=10$, $\\lambda_{+}=1$, $\\lambda_{-}=1x$ (End)',\n",
    "    'SAMPLE-END_ARTRATE-2': r'$E_{d}=10$, $\\lambda_{+}=2$, $\\lambda_{-}=1x$ (End)',\n",
    "    'SAMPLE-END_ARTRATE-4': r'$E_{d}=10$, $\\lambda_{+}=4$, $\\lambda_{-}=1x$ (End)',\n",
    "}"
   ]
  },
  {
   "cell_type": "markdown",
   "metadata": {},
   "source": [
    "## Metric: Number of Infections After Year 9"
   ]
  },
  {
   "cell_type": "markdown",
   "metadata": {},
   "source": [
    "### Comparing Methods"
   ]
  },
  {
   "cell_type": "code",
   "execution_count": null,
   "metadata": {},
   "outputs": [],
   "source": [
    "Ms = ['proact.ftmv','proact.ftmv.sub75','proact.ftmv.sub50','proact.ftmv.sub25','hivtrace','hivtrace.sub75','hivtrace.sub50','hivtrace.sub25']\n",
    "Ks = ['SAMPLE-FIRSTART_ARTRATE-1','SAMPLE-FIRSTART_ARTRATE-2','SAMPLE-FIRSTART_ARTRATE-4','SAMPLE-FIRSTART_EXPDEGREE-20','SAMPLE-FIRSTART_EXPDEGREE-30','SAMPLE-FIRSTART_STOPRATE-0.25x','SAMPLE-FIRSTART_STOPRATE-0.5x','SAMPLE-FIRSTART_STOPRATE-2x','SAMPLE-FIRSTART_STOPRATE-4x']\n",
    "XMAX = {K:min(min(len(l) for l in eff[m][K]) for m in Ms) for K in Ks}\n",
    "xmin = 0\n",
    "xmax = 0.1\n",
    "ymin = 0\n",
    "ymax = 0.275\n",
    "handles = [Patch(color=metasim['color'][m], label=metasim['label'][m]) for m in Ms]\n",
    "for K in Ks:\n",
    "    fig = plt.figure()\n",
    "    for m in Ms:\n",
    "        prefix = m.split('.sub')[0]\n",
    "        cmas = [cma(l[:XMAX[K]]) for l in eff[m][K]]\n",
    "        y = [avg([c[i] for c in cmas]) for i in range(XMAX[K])]\n",
    "        x = [float(i)/XMAX[K] for i in range(len(y))]\n",
    "        plt.plot(x, y, color=metasim['color'][m], linestyle=metasim['linestyle'][m], label=metasim['label'][m])\n",
    "    plt.legend(handles=handles, bbox_to_anchor=(0.005, 0.995), loc=2, ncol=2, borderaxespad=0.)\n",
    "    plt.xlim(left=xmin,right=xmax)\n",
    "    plt.ylim(bottom=ymin,top=ymax)\n",
    "    plt.title(tr[K])\n",
    "    plt.xlabel(\"Proportion of Individuals\")\n",
    "    plt.ylabel(\"Transmissions/Person\")\n",
    "    fig.savefig('%s/results_efficacy_%s.pdf'%(FIGDIR,K), format='pdf', bbox_inches='tight')\n",
    "    if K == 'SAMPLE-FIRSTART_ARTRATE-1':\n",
    "        for altK in ['SAMPLE-FIRSTART_EXPDEGREE-10','SAMPLE-FIRSTART_STOPRATE-1x']:\n",
    "            fig.savefig('%s/results_efficacy_%s.pdf'%(FIGDIR,altK), format='pdf', bbox_inches='tight')"
   ]
  },
  {
   "cell_type": "markdown",
   "metadata": {},
   "source": [
    "### Full Width"
   ]
  },
  {
   "cell_type": "code",
   "execution_count": null,
   "metadata": {},
   "outputs": [],
   "source": [
    "Ms = ['optimal','optimal.sub75','optimal.sub50','optimal.sub25','random','random.sub75','random.sub50','random.sub25']\n",
    "Ks = ['SAMPLE-FIRSTART_ARTRATE-1','SAMPLE-FIRSTART_ARTRATE-2','SAMPLE-FIRSTART_ARTRATE-4','SAMPLE-FIRSTART_EXPDEGREE-20','SAMPLE-FIRSTART_EXPDEGREE-30','SAMPLE-FIRSTART_STOPRATE-0.25x','SAMPLE-FIRSTART_STOPRATE-0.5x','SAMPLE-FIRSTART_STOPRATE-2x','SAMPLE-FIRSTART_STOPRATE-4x']\n",
    "XMAX = {K:min(min(len(l) for l in eff[m][K]) for m in Ms) for K in Ks}\n",
    "xmax = 1\n",
    "ymin = 0\n",
    "ymax = None#4\n",
    "handles = [Patch(color=metasim['color'][m], label=metasim['label'][m]) for m in Ms]\n",
    "for K in Ks:\n",
    "    xmin = 1./XMAX[K]\n",
    "    fig = plt.figure()\n",
    "    for m in Ms:\n",
    "        prefix = m.split('.sub')[0]\n",
    "        cmas = [cma(l[:XMAX[K]]) for l in eff[m][K]]\n",
    "        y = [avg([c[i] for c in cmas]) for i in range(XMAX[K])]\n",
    "        x = [float(i+1)/XMAX[K] for i in range(len(y))]\n",
    "        plt.plot(x, y, color=metasim['color'][m], linestyle=metasim['linestyle'][m], label=metasim['label'][m])\n",
    "    plt.legend(handles=handles, bbox_to_anchor=(0.995, 0.995), loc=1, borderaxespad=0., ncol=2)\n",
    "    plt.xlim(left=xmin,right=xmax)\n",
    "    plt.xscale('log')\n",
    "    plt.ylim(bottom=ymin,top=ymax)\n",
    "    plt.title(tr[K])\n",
    "    plt.xlabel(\"Proportion of Individuals\")\n",
    "    plt.ylabel(\"Transmissions/Person\")\n",
    "    fig.savefig('%s/results_efficacy_%s_wide.pdf'%(FIGDIR,K), format='pdf', bbox_inches='tight')\n",
    "    if K == 'SAMPLE-FIRSTART_ARTRATE-1':\n",
    "        for altK in ['SAMPLE-FIRSTART_EXPDEGREE-10','SAMPLE-FIRSTART_STOPRATE-1x']:\n",
    "            fig.savefig('%s/results_efficacy_%s_wide.pdf'%(FIGDIR,altK), format='pdf', bbox_inches='tight')"
   ]
  },
  {
   "cell_type": "markdown",
   "metadata": {},
   "source": [
    "### Comparing Methods (Normalized)"
   ]
  },
  {
   "cell_type": "code",
   "execution_count": null,
   "metadata": {},
   "outputs": [],
   "source": [
    "Ms = ['proact.ftmv','proact.ftmv.sub75','proact.ftmv.sub50','proact.ftmv.sub25','hivtrace','hivtrace.sub75','hivtrace.sub50','hivtrace.sub25']\n",
    "Ks = ['SAMPLE-FIRSTART_ARTRATE-1','SAMPLE-FIRSTART_ARTRATE-2','SAMPLE-FIRSTART_ARTRATE-4','SAMPLE-FIRSTART_EXPDEGREE-20','SAMPLE-FIRSTART_EXPDEGREE-30','SAMPLE-FIRSTART_STOPRATE-0.25x','SAMPLE-FIRSTART_STOPRATE-0.5x','SAMPLE-FIRSTART_STOPRATE-2x','SAMPLE-FIRSTART_STOPRATE-4x']\n",
    "XMAX = {K:min(min(len(l) for l in eff[m][K]) for m in Ms) for K in Ks}\n",
    "xmin = 0\n",
    "xmax = 0.1\n",
    "ymin = -0.025\n",
    "ymax = 0.1#0.085\n",
    "handles = [Patch(color=metasim['color'][m], label=metasim['label'][m]) for m in Ms]\n",
    "for K in Ks:\n",
    "    rand_cmas = {m:[cma(l[:XMAX[K]]) for l in eff[m][K]] for m in eff if m.startswith('random')}\n",
    "    rand_y = {m:[avg([c[i] for c in rand_cmas[m]]) for i in range(XMAX[K])] for m in eff if m.startswith('random')}\n",
    "    opt_cmas = {m:[cma(l[:XMAX[K]]) for l in eff[m][K]] for m in eff if m.startswith('optimal')}\n",
    "    opt_y = {m:[avg([c[i] for c in opt_cmas[m]])-rand_y[m.replace('optimal','random')][i] for i in range(XMAX[K])] for m in eff if m.startswith('optimal')}\n",
    "    fig = plt.figure()\n",
    "    for m in Ms:\n",
    "        prefix = m.split('.sub')[0]\n",
    "        cmas = [cma(l[:XMAX[K]]) for l in eff[m][K]]\n",
    "        y = list()\n",
    "        for i in range(XMAX[K]):\n",
    "            if (opt_y[m.replace(prefix,'optimal')][i]-rand_y[m.replace(prefix,'random')][i]) == 0:\n",
    "                y.append(1)\n",
    "            else:\n",
    "                y.append((avg([c[i] for c in cmas])-rand_y[m.replace(prefix,'random')][i])/(opt_y[m.replace(prefix,'optimal')][i]-rand_y[m.replace(prefix,'random')][i]))\n",
    "        #y = [(avg([c[i] for c in cmas])-rand_y[m.replace(prefix,'random')][i])/(opt_y[m.replace(prefix,'optimal')][i]-rand_y[m.replace(prefix,'random')][i]) for i in range(XMAX[K])]\n",
    "        x = [float(i)/XMAX[K] for i in range(len(y))]\n",
    "        plt.plot(x, y, color=metasim['color'][m], linestyle=metasim['linestyle'][m], label=metasim['label'][m])\n",
    "    plt.legend(handles=handles, bbox_to_anchor=(0.005, 0.995), loc=2, ncol=2, borderaxespad=0.)\n",
    "    plt.xlim(left=xmin,right=xmax)\n",
    "    plt.ylim(bottom=ymin,top=ymax)\n",
    "    plt.title(tr[K])\n",
    "    plt.xlabel(\"Proportion of Individuals\")\n",
    "    plt.ylabel(\"Adjusted Transmissions/Person\")\n",
    "    fig.savefig('%s/results_efficacy_normalized_%s.pdf'%(FIGDIR,K), format='pdf', bbox_inches='tight')\n",
    "    if K == 'SAMPLE-FIRSTART_ARTRATE-1':\n",
    "        for altK in ['SAMPLE-FIRSTART_EXPDEGREE-10','SAMPLE-FIRSTART_STOPRATE-1x']:\n",
    "            fig.savefig('%s/results_efficacy_normalized_%s.pdf'%(FIGDIR,altK), format='pdf', bbox_inches='tight')"
   ]
  },
  {
   "cell_type": "markdown",
   "metadata": {},
   "source": [
    "### Comparing Model Conditions"
   ]
  },
  {
   "cell_type": "code",
   "execution_count": null,
   "metadata": {},
   "outputs": [],
   "source": [
    "Ks = ['SAMPLE-FIRSTART_ARTRATE-4','SAMPLE-FIRSTART_ARTRATE-2','SAMPLE-FIRSTART_ARTRATE-1','SAMPLE-FIRSTART_STOPRATE-0.25x','SAMPLE-FIRSTART_STOPRATE-0.5x','SAMPLE-FIRSTART_STOPRATE-2x','SAMPLE-FIRSTART_STOPRATE-4x','SAMPLE-FIRSTART_EXPDEGREE-20','SAMPLE-FIRSTART_EXPDEGREE-30']\n",
    "Ms = ['proact.ftmv','hivtrace']\n",
    "Ns = [100,200,500,1000,2000,5000]\n",
    "handles = [Patch(color=metasim['color'][m], label=metasim['label'][m]) for m in Ms+['expected']]\n",
    "ymin = None #-0.05\n",
    "ymax = None #0.8\n",
    "for n in Ns:\n",
    "    fig = plt.figure()\n",
    "    for m in Ms:\n",
    "        x = list(); y = list()\n",
    "        for K in Ks:\n",
    "            y += [avg(l[:n]) for l in eff[m][K]]; x += [tr[K]]*len(eff[m][K])\n",
    "        violinplot(x=x, y=y, color=metasim['color'][m], labels=metasim['label'][m])\n",
    "    xlim = plt.xlim()\n",
    "    for m in ['random']:\n",
    "        for i,K in enumerate(Ks):\n",
    "            x = [i-0.5,i+0.5]; y = [avg([avg(l[:n]) for l in eff[m][K]])]*2\n",
    "            plt.plot(x, y, linestyle=metasim['linestyle'][m], color=metasim['color'][m])\n",
    "    plt.legend(handles=handles, bbox_to_anchor=(0.005, 0.995), loc=2, borderaxespad=0.)\n",
    "    plt.xlim(xlim)\n",
    "    plt.ylim(ymin=ymin,ymax=ymax)\n",
    "    plt.title(r\"$n=%d$\" % n)\n",
    "    plt.ylabel(\"Transmissions Per Person\")\n",
    "    plt.xticks(rotation=90)\n",
    "    fig.savefig('%s/results_efficacy_n%d.pdf'%(FIGDIR,n), format='pdf', bbox_inches='tight')"
   ]
  },
  {
   "cell_type": "markdown",
   "metadata": {},
   "source": [
    "# Miscellaneous"
   ]
  },
  {
   "cell_type": "markdown",
   "metadata": {},
   "source": [
    "## Helper Functions"
   ]
  },
  {
   "cell_type": "code",
   "execution_count": null,
   "metadata": {},
   "outputs": [],
   "source": [
    "def L2N(l):\n",
    "    return l.label.split('|')[1]"
   ]
  },
  {
   "cell_type": "code",
   "execution_count": null,
   "metadata": {},
   "outputs": [],
   "source": [
    "def read_lines(filename):\n",
    "    if filename == 'stdin':\n",
    "        return [l.strip() for l in stdin.read().strip().splitlines()]\n",
    "    elif filename.lower().endswith('.gz'):\n",
    "        return [l.strip() for l in gopen(filename).read().decode().strip().splitlines()]\n",
    "    else:\n",
    "        return [l.strip() for l in open(filename).read().strip().splitlines()]"
   ]
  },
  {
   "cell_type": "code",
   "execution_count": null,
   "metadata": {},
   "outputs": [],
   "source": [
    "def load_transmissions(filename):\n",
    "    trans = []; nodes = set()\n",
    "    for l in read_lines(filename):\n",
    "        try:\n",
    "            u,v,t = l.split(); t = float(t)\n",
    "        except:\n",
    "            raise RuntimeError(\"Invalid transmission network\")\n",
    "        trans.append((u,v,t))\n",
    "    return trans"
   ]
  },
  {
   "cell_type": "code",
   "execution_count": null,
   "metadata": {},
   "outputs": [],
   "source": [
    "def load_diag_times(filename):\n",
    "    diag = dict()\n",
    "    for l in read_lines(filename):\n",
    "        u,t = l.strip().split('\\t')\n",
    "        if u.count('|') == 2: # virus|person|time identifiers\n",
    "            u = u.split('|')[1]\n",
    "        diag[u] = float(t)\n",
    "    return diag"
   ]
  },
  {
   "cell_type": "code",
   "execution_count": null,
   "metadata": {},
   "outputs": [],
   "source": [
    "def leaf_to_name(tree):\n",
    "    tr = dict()\n",
    "    for l in tree.traverse_leaves():\n",
    "        if l.label.count('|') == 2: # virus|person|time identifiers\n",
    "            tr[l] = l.label.split('|')[1]\n",
    "        else:\n",
    "            tr[l] = l.label\n",
    "    return tr"
   ]
  },
  {
   "cell_type": "code",
   "execution_count": null,
   "metadata": {},
   "outputs": [],
   "source": [
    "def individual_efficacy(user_individuals,transmissions,from_time,to_time):\n",
    "    assert to_time > from_time, \"To Time must be larger than From Time\"\n",
    "    eff = {u:0 for u in user_individuals}; trans_nodes = set()\n",
    "    for u,v,t in transmissions:\n",
    "        trans_nodes.add(u); trans_nodes.add(v)\n",
    "        if t >= from_time and t <= to_time and u in eff:\n",
    "            eff[u] += 1\n",
    "    for u in eff:\n",
    "        assert u in trans_nodes, \"Individual not in transmission network: %s\"%u\n",
    "    return eff"
   ]
  },
  {
   "cell_type": "code",
   "execution_count": null,
   "metadata": {},
   "outputs": [],
   "source": [
    "def compute_max_sibling_leaf_time(tree,inf):\n",
    "    max_inf = dict()\n",
    "    for u in tree.traverse_postorder():\n",
    "        if u.is_leaf():\n",
    "            max_inf[u] = inf[L2N(u)]\n",
    "        else:\n",
    "            max_inf[u] = max(max_inf[c] for c in u.children)\n",
    "    out = dict()\n",
    "    for u in tree.traverse_postorder():\n",
    "        if u.is_root():\n",
    "            out[u] = None\n",
    "        else:\n",
    "            out[u] = max(max_inf[c] for c in u.parent.children if c != u)\n",
    "    return out"
   ]
  },
  {
   "cell_type": "code",
   "execution_count": null,
   "metadata": {},
   "outputs": [],
   "source": [
    "def edgelength_over_time(tree,inf): # each element in list for a given leaf is (time,length) tuple\n",
    "    el_t = dict(); max_sib_inf = compute_max_sibling_leaf_time(tree,inf); oldest_leaf = dict()\n",
    "    # compute (oldest_time,leaf) tuples for each node\n",
    "    for u in tree.traverse_postorder():\n",
    "        if u.is_leaf():\n",
    "            oldest_leaf[u] = (inf[L2N(u)],u)\n",
    "        else:\n",
    "            oldest_leaf[u] = min(oldest_leaf[c] for c in u.children)\n",
    "    # compute edge length over time\n",
    "    for u in tree.traverse_postorder():\n",
    "        if u.is_leaf():\n",
    "            if inf[L2N(u)] >= max_sib_inf[u]:\n",
    "                el_t[u] = [[inf[L2N(u)],u.edge_length]]\n",
    "            else:\n",
    "                el_t[u] = [[max_sib_inf[u],u.edge_length]]\n",
    "        else:\n",
    "            if u.edge_length is None:\n",
    "                el = 0\n",
    "            else:\n",
    "                el = u.edge_length\n",
    "            if u.is_root():\n",
    "                prev_time = oldest_leaf[u][0]\n",
    "            else:\n",
    "                prev_time = min(oldest_leaf[c] for c in u.parent.children if oldest_leaf[c][1] != oldest_leaf[u][1])[0]\n",
    "            if prev_time >= oldest_leaf[u][0] and prev_time < el_t[oldest_leaf[u][1]][-1][0]:\n",
    "                el_t[oldest_leaf[u][1]].append([prev_time,el_t[oldest_leaf[u][1]][-1][1]])\n",
    "            el_t[oldest_leaf[u][1]][-1][1] += el\n",
    "    for l in el_t:\n",
    "        if el_t[l][-1][0] > inf[L2N(l)]:\n",
    "            el_t[l][-1][0] = inf[L2N(l)]\n",
    "    return {l:el_t[l][::-1] for l in el_t}"
   ]
  },
  {
   "cell_type": "code",
   "execution_count": null,
   "metadata": {},
   "outputs": [],
   "source": [
    "def plot_edgelength_over_time(el_t,eff,max_num_lines,xmin=None,xmax=None,ymin=None,ymax=None,xlabel='Time',ylabel='Edge Length',title='Edge Length vs. Time',filename=None):\n",
    "    fig = plt.figure()\n",
    "    leaves = sorted(el_t.keys(), key=lambda a: eff[L2N(a)])\n",
    "    if max_num_lines is not None:\n",
    "        leaves = leaves[-max_num_lines:]\n",
    "    min_eff = min(eff[L2N(l)] for l in leaves); max_eff = max(eff[L2N(l)] for l in leaves); max_time = max(el_t[l][-1][0] for l in leaves)\n",
    "    norm = Normalize(vmin=min_eff, vmax=max_eff, clip=True); color_mapper = ScalarMappable(norm=norm, cmap=Reds)\n",
    "    handles = [Patch(color=color_mapper.to_rgba(e), label='%d Transmission(s)'%e) for e in (min_eff,max_eff)]\n",
    "    for l in leaves:\n",
    "        pairs = el_t[l]\n",
    "        x = [pairs[0][0]]; y = [pairs[0][1]] # start (just a point)\n",
    "        for t,el in pairs[1:]:\n",
    "            x.append(t); y.append(y[-1]) # bring it forward\n",
    "            x.append(t); y.append(el) # bring it up\n",
    "        x.append(max_time); y.append(y[-1])\n",
    "        plt.plot(x, y, color=color_mapper.to_rgba(eff[L2N(l)]))\n",
    "    plt.legend(handles=handles, bbox_to_anchor=(0.995, 0.995), loc=1, borderaxespad=0.)\n",
    "    plt.xlim(xmin=xmin,xmax=xmax); plt.ylim(ymin=ymin,ymax=ymax)\n",
    "    plt.xlabel(xlabel); plt.ylabel(ylabel); plt.title(title)\n",
    "    plt.tight_layout(); plt.show()\n",
    "    if filename is not None:\n",
    "        fig.savefig('%s/%s'%(FIGDIR,filename), format='pdf', bbox_inches='tight')"
   ]
  },
  {
   "cell_type": "markdown",
   "metadata": {},
   "source": [
    "## Load Raw Simulated Data"
   ]
  },
  {
   "cell_type": "code",
   "execution_count": null,
   "metadata": {},
   "outputs": [],
   "source": [
    "tr = {\n",
    "    'true': 'True',\n",
    "    'ftmv': 'Inferred',\n",
    "}\n",
    "simdata = dict()\n",
    "for folder in glob('../simulations/SAMPLE-FIRSTART_ARTRATE-1'):\n",
    "    experiment = folder.split('/')[-1]; simdata[experiment] = dict()\n",
    "    for transfile in glob('%s/*.transmissions.txt.gz'%folder):\n",
    "        r = transfile.split('/')[-1].split('.')[0]\n",
    "        simdata[experiment][r] = {'true': read_tree_newick(transfile.replace('transmissions.txt','true.time9.tre')),\n",
    "                              'ftmv': read_tree_newick(transfile.replace('transmissions.txt','ft.mv.time9.tre'))}\n",
    "        simdata[experiment][r]['diag'] = load_diag_times(transfile.replace('transmissions','diagnosis'))\n",
    "        simdata[experiment][r]['eff'] = individual_efficacy([L2N(l) for l in simdata[experiment][r]['true'].traverse_leaves()],\n",
    "                                                       load_transmissions(transfile),9,float('inf'))"
   ]
  },
  {
   "cell_type": "markdown",
   "metadata": {},
   "source": [
    "## Plot Edgelength Over Time"
   ]
  },
  {
   "cell_type": "code",
   "execution_count": null,
   "metadata": {},
   "outputs": [],
   "source": [
    "MAXBINSIZE = 10000\n",
    "def average_edgelenth_over_time_people(el_t):\n",
    "    el_t = {k:el_t[k] for k in sample(list(el_t.keys()),min(MAXBINSIZE,len(el_t.keys())))} # subsample because it's too slow\n",
    "    fixed_el_t = [[[(t-v[0][0])/(SIMTIME-v[0][0]),el] for t,el in v] for v in el_t.values()]\n",
    "    out = [[t,0.] for t in sorted({t for v in fixed_el_t for t,el in v})]\n",
    "    for v in fixed_el_t: # for each person's vector of edge-length windows\n",
    "        i = len(out)-1 # start at last time\n",
    "        for t,el in v[::-1]: # iterate over this person's times in reverse order\n",
    "            while i >= 0 and t <= out[i][0]:\n",
    "                out[i][1] += el; i -= 1\n",
    "    for i in range(len(out)):\n",
    "        out[i][1] /= len(fixed_el_t)\n",
    "    return out\n",
    "\n",
    "def eff_color(e):\n",
    "    if e == 0:\n",
    "        return '#00FF00'\n",
    "    elif e == 1:\n",
    "        return '#FFCCCC'\n",
    "    elif e == 2:\n",
    "        return '#E29999'\n",
    "    elif e == 3:\n",
    "        return '#C56666'\n",
    "    elif e == 4:\n",
    "        return '#A83333'\n",
    "    elif e >= 5:\n",
    "        return '#8b0000'\n",
    "    else:\n",
    "        raise ValueError(\"Invalid efficacy\")\n",
    "ls = lambda x: {True:'--',False:'-'}[x == 0]\n",
    "eff_bin = lambda x: {True:x,False:5}[x < 5]\n",
    "tr = {'ftmv':'Inferred','true':'True'}\n",
    "\n",
    "experiment = 'SAMPLE-FIRSTART_ARTRATE-1'\n",
    "unique_effs = set(e for r in simdata[experiment] for e in simdata[experiment][r]['eff'].values())\n",
    "min_eff,max_eff = [f(unique_effs) for f in [min,max]]\n",
    "handles = [Patch(color=eff_color(e), label='%d Transmission(s)'%e) for e in range(5)]\n",
    "handles.append(Patch(color=eff_color(5), label='≥5 Transmission(s)'))\n",
    "for k in ['true','ftmv']:\n",
    "    fig = plt.figure()\n",
    "    merged_el_t_by_eff = {e:dict() for e in range(6)}\n",
    "    for r in simdata[experiment]:\n",
    "        curr_el_t = edgelength_over_time(simdata[experiment][r][k], simdata[experiment][r]['diag'])\n",
    "        for l,v in curr_el_t.items():\n",
    "            merged_el_t_by_eff[eff_bin(simdata[experiment][r]['eff'][L2N(l)])]['%s_%s'%(r,l)] = v\n",
    "    for e in merged_el_t_by_eff:\n",
    "        avg_el_t = average_edgelenth_over_time_people(merged_el_t_by_eff[e])\n",
    "        x = [avg_el_t[0][0]]; y = [avg_el_t[0][1]] # start (just a point)\n",
    "        for t,el in avg_el_t[1:]:\n",
    "            x.append(t); y.append(y[-1]) # bring it forward\n",
    "            x.append(t); y.append(el) # bring it down\n",
    "        x.append(1); y.append(y[-1]) # bring it to end\n",
    "        plt.plot(x, y, color=eff_color(e), linestyle=ls(e))\n",
    "    plt.legend(handles=handles, bbox_to_anchor=(0.995, 0.995), loc=1, borderaxespad=0.)\n",
    "    plt.xlabel(\"Normalized Time Since Infection\")\n",
    "    plt.ylabel(\"Average %s Edge Length\"%tr[k])\n",
    "    fig.savefig('%s/avg_edgelength_vs_time_%s.pdf'%(FIGDIR,k), format='pdf', bbox_inches='tight')"
   ]
  },
  {
   "cell_type": "markdown",
   "metadata": {},
   "source": [
    "## Efficacy vs. Edge Length Correlation Test"
   ]
  },
  {
   "cell_type": "code",
   "execution_count": null,
   "metadata": {},
   "outputs": [],
   "source": [
    "tests = {\n",
    "    \"Kendall's Tau-b\": kendalltau,\n",
    "    \"Pearson\": pearsonr,\n",
    "    \"Spearman\": spearmanr,\n",
    "    \"Point Biserial\": pointbiserialr,\n",
    "}\n",
    "\n",
    "experiment = 'SAMPLE-FIRSTART_ARTRATE-1'\n",
    "x = {'true':list(),'ftmv':list()}; y = {'true':list(),'ftmv':list()}\n",
    "for r in simdata[experiment]:\n",
    "    for k in ['true','ftmv']:\n",
    "        for l in simdata[experiment][r][k].traverse_leaves():\n",
    "            x[k].append(l.edge_length)\n",
    "            y[k].append(simdata[experiment][r]['eff'][L2N(l)])\n",
    "\n",
    "for test in sorted(tests.keys()):\n",
    "    print(\"========== %s ==========\"%test)\n",
    "    for k in ['true','ftmv']:\n",
    "        out = tests[test](x[k],y[k])\n",
    "        print(\"%s: %s (p = %s)\" % (tr[k],out[0],out[1]))\n",
    "    print()"
   ]
  },
  {
   "cell_type": "markdown",
   "metadata": {},
   "source": [
    "## Plot Edge Length vs. Efficacy"
   ]
  },
  {
   "cell_type": "code",
   "execution_count": null,
   "metadata": {},
   "outputs": [],
   "source": [
    "palette = {\n",
    "    'boxen':'lightgrey',\n",
    "    '0\\nTrue': 'darkgreen',\n",
    "    '1\\nTrue': 'darkred',\n",
    "    '2\\nTrue': 'darkred',\n",
    "    '3\\nTrue': 'darkred',\n",
    "    '4\\nTrue': 'darkred',\n",
    "    '≥5\\nTrue': 'darkred',\n",
    "    '0\\nEst.': 'lightgreen',\n",
    "    '1\\nEst.': 'red',\n",
    "    '2\\nEst.': 'red',\n",
    "    '3\\nEst.': 'red',\n",
    "    '4\\nEst.': 'red',\n",
    "    '≥5\\nEst.': 'red'\n",
    "}\n",
    "order = ['%s\\n%s'%(a,b) for a in ['0','1','2','3','4','≥5'] for b in ['True','Est.']]\n",
    "colors = [palette[k] for k in order]\n",
    "experiment = 'SAMPLE-FIRSTART_ARTRATE-1'\n",
    "ymin = 0; ymax = 0.06\n",
    "MAXBINSIZE = 1000\n",
    "f = lambda x: {True:str(x), False:'≥5'}[x<5]\n",
    "fig = plt.figure(figsize=(10,4.8))\n",
    "x = list(); y = list(); h = list()\n",
    "for k in ['true','ftmv']:\n",
    "    el_vs_eff = dict()\n",
    "    for r in simdata[experiment]:\n",
    "        for l in simdata[experiment][r][k].traverse_leaves():\n",
    "            e = simdata[experiment][r]['eff'][L2N(l)]\n",
    "            if e not in el_vs_eff:\n",
    "                el_vs_eff[e] = list()\n",
    "            el_vs_eff[e].append(l.edge_length)\n",
    "    #el_vs_eff = {e:sample(v, min(MAXBINSIZE,len(v))) for e,v in el_vs_eff.items()} # subsample if too slow\n",
    "    for e in el_vs_eff:\n",
    "        x += ['%s\\n%s'%(f(e), {'true':'True','ftmv':'Est.'}[k])]*len(el_vs_eff[e])\n",
    "        y += el_vs_eff[e]\n",
    "violinplot(x=x, y=y, palette=colors, order=order, scale='width', bw=0.3, inner=None)\n",
    "boxenplot(x=x, y=y, order=order, color=palette['boxen'], width=0.1)\n",
    "plt.ylim(ymin=ymin,ymax=ymax)\n",
    "plt.yscale('cuberoot')\n",
    "plt.xlabel('Number of Transmissions', fontsize=24)\n",
    "plt.ylabel('Edge Length', fontsize=24)\n",
    "plt.gca().tick_params(axis='both', which='major', labelsize=16)\n",
    "#plt.title(\"Edge Length vs. Number of Transmissions\")\n",
    "plt.tight_layout(); plt.show()\n",
    "fig.savefig('%s/edgelength_vs_efficacy.pdf'%FIGDIR, format='pdf', bbox_inches='tight')"
   ]
  }
 ],
 "metadata": {
  "kernelspec": {
   "display_name": "Python 3",
   "language": "python",
   "name": "python3"
  },
  "language_info": {
   "codemirror_mode": {
    "name": "ipython",
    "version": 3
   },
   "file_extension": ".py",
   "mimetype": "text/x-python",
   "name": "python",
   "nbconvert_exporter": "python",
   "pygments_lexer": "ipython3",
   "version": "3.6.2"
  }
 },
 "nbformat": 4,
 "nbformat_minor": 2
}
